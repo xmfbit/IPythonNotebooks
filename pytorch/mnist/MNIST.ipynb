{
 "cells": [
  {
   "cell_type": "markdown",
   "metadata": {},
   "source": [
    "## 导入相应的包"
   ]
  },
  {
   "cell_type": "code",
   "execution_count": 1,
   "metadata": {
    "collapsed": false
   },
   "outputs": [
    {
     "name": "stdout",
     "output_type": "stream",
     "text": [
      "cuda is available\n"
     ]
    }
   ],
   "source": [
    "import torch\n",
    "import torchvision\n",
    "cuda_enable = torch.cuda.is_available()\n",
    "print 'cuda is available' if cuda_enable else 'cuda is not available'"
   ]
  },
  {
   "cell_type": "markdown",
   "metadata": {},
   "source": [
    "## LeNet"
   ]
  },
  {
   "cell_type": "code",
   "execution_count": 2,
   "metadata": {
    "collapsed": false
   },
   "outputs": [
    {
     "data": {
      "text/plain": [
       "lenet (\n",
       "  (conv1): Conv2d(1, 20, kernel_size=(5, 5), stride=(1, 1))\n",
       "  (conv2): Conv2d(20, 50, kernel_size=(5, 5), stride=(1, 1))\n",
       "  (fc1): Linear (800 -> 100)\n",
       "  (fc2): Linear (100 -> 10)\n",
       ")"
      ]
     },
     "execution_count": 2,
     "metadata": {},
     "output_type": "execute_result"
    }
   ],
   "source": [
    "import torch.nn as nn\n",
    "import torch.nn.functional as F\n",
    "class lenet(nn.Module):\n",
    "    def __init__(self):\n",
    "        super(lenet, self).__init__()\n",
    "        # conv1, 20 channels, 5x5 kernel, stride = 1\n",
    "        self.conv1 = nn.Conv2d(1, 20, 5, 1)\n",
    "        # conv2, 50 channels, 5x5 kernel, stride = 1\n",
    "        self.conv2 = nn.Conv2d(20, 50, 5, 1)\n",
    "        # fc1, 500 output\n",
    "        self.fc1 = nn.Linear(4*4*50, 100)\n",
    "        # fc2, 10 output\n",
    "        self.fc2 = nn.Linear(100, 10)\n",
    "    def forward(self, x):\n",
    "        # 1st conv-pooling-relu unit\n",
    "        x = F.relu(F.max_pool2d(self.conv1(x), 2, 2))\n",
    "        # 2nd conv-pooling-relu unit\n",
    "        x = F.relu(F.max_pool2d(self.conv2(x), 2, 2))\n",
    "        x = x.view(-1, 4*4*50)\n",
    "        x = F.relu(self.fc1(x))\n",
    "        x = F.relu(self.fc2(x))\n",
    "        return x\n",
    "\n",
    "model = lenet()\n",
    "if cuda_enable:\n",
    "    model.cuda()\n",
    "# show model\n",
    "model"
   ]
  },
  {
   "cell_type": "markdown",
   "metadata": {},
   "source": [
    "## Load dataset"
   ]
  },
  {
   "cell_type": "code",
   "execution_count": 3,
   "metadata": {
    "collapsed": false
   },
   "outputs": [
    {
     "name": "stdout",
     "output_type": "stream",
     "text": [
      "total batch number in train set: 469\n",
      "total batch number in test set: 79\n"
     ]
    }
   ],
   "source": [
    "from torchvision import datasets, transforms\n",
    "kwargs = {'num_workers': 1, 'pin_memory': True} if cuda_enable else {}\n",
    "data_dir = '../data'\n",
    "batch_size = 128\n",
    "transform = transforms.Compose([transforms.ToTensor(),  # to Tensor\n",
    "                               # transforms.Normalize((0.1307,), (0.3081,))  # normalization\n",
    "                               transforms.Normalize((0.5,), (1,))  # normalization\n",
    "                               ])\n",
    "if_download = False  # we have download the mnist\n",
    "train_loader = torch.utils.data.DataLoader(\n",
    "    datasets.MNIST(data_dir, train = True, \n",
    "                   download = if_download,\n",
    "                   transform = transform),\n",
    "                   batch_size = batch_size, \n",
    "                   shuffle = True, **kwargs)\n",
    "\n",
    "test_loader = torch.utils.data.DataLoader(\n",
    "    datasets.MNIST(data_dir, train=False, \n",
    "                   transform = transform),\n",
    "                   batch_size = batch_size, \n",
    "                   shuffle = True, **kwargs)\n",
    "print 'total batch number in train set: {}'.format(len(train_loader))\n",
    "print 'total batch number in test set: {}'.format(len(test_loader))"
   ]
  },
  {
   "cell_type": "markdown",
   "metadata": {},
   "source": [
    "## Optimization 方法"
   ]
  },
  {
   "cell_type": "markdown",
   "metadata": {},
   "source": [
    "To construct an Optimizer you have to give it an iterable containing the parameters (all should be Variable s) to optimize. Then, you can specify optimizer-specific options such as the learning rate, weight decay, etc.\n",
    "Example:\n",
    "```\n",
    "optimizer = optim.SGD(model.parameters(), lr = 0.01, momentum=0.9)\n",
    "optimizer = optim.Adam([var1, var2], lr = 0.0001)\n",
    "```"
   ]
  },
  {
   "cell_type": "code",
   "execution_count": 4,
   "metadata": {
    "collapsed": false
   },
   "outputs": [],
   "source": [
    "optimizer = torch.optim.SGD(model.parameters(), lr = 0.001, momentum = 0.9, weight_decay = 0.0005)"
   ]
  },
  {
   "cell_type": "markdown",
   "metadata": {},
   "source": [
    "Optimizer s also support specifying per-parameter options. To do this, instead of passing an iterable of Variable s, pass in an iterable of dict s. Each of them will define a separate parameter group, and should contain a params key, containing a list of parameters belonging to it. Other keys should match the keyword arguments accepted by the optimizers, and will be used as optimization options for this group.\n",
    "Example:\n",
    "```\n",
    "optim.SGD([\n",
    "                {'params': model.base.parameters()},\n",
    "                {'params': model.classifier.parameters(), 'lr': 1e-3}\n",
    "            ], lr=1e-2, momentum=0.9)\n",
    "```\n",
    "This means that model.base‘s parameters will use the default learning rate of 1e-2, model.classifier‘s parameters will use a learning rate of 1e-3, and a momentum of 0.9 will be used for all parameters.\n",
    "\n",
    "在训练过程中，一旦进行完gradient的bp之后，使用`optimizer.step()`就可以使用给定的优化方法进行参数的更新了。一个典型的训练迭代过程如下所示：\n",
    "\n",
    "```\n",
    "for input, target in dataset:\n",
    "    optimizer.zero_grad()\n",
    "    output = model(input)\n",
    "    loss = loss_fn(output, target)\n",
    "    loss.backward()\n",
    "    optimizer.step()\n",
    "```"
   ]
  },
  {
   "cell_type": "markdown",
   "metadata": {},
   "source": [
    "## 训练网络"
   ]
  },
  {
   "cell_type": "code",
   "execution_count": 5,
   "metadata": {
    "collapsed": true
   },
   "outputs": [],
   "source": [
    "# functions to show an image\n",
    "import matplotlib.pyplot as plt\n",
    "import numpy as np\n",
    "%matplotlib inline\n",
    "def imshow(img):\n",
    "    img = img + 0.5 # unnormalize\n",
    "    npimg = img.numpy()\n",
    "    plt.imshow(np.transpose(npimg, (1,2,0)))"
   ]
  },
  {
   "cell_type": "code",
   "execution_count": 6,
   "metadata": {
    "collapsed": false
   },
   "outputs": [
    {
     "name": "stdout",
     "output_type": "stream",
     "text": [
      "3, 5, 9, 3, 4, 5, 7, 9, 5, 4, 8, 9, 9, 5, 0, 8, 1, 6, 4, 6, 7, 5, 3, 9, 5, 4, 1, 0, 6, 7, 8, 7, 5, 5, 7, 5, 3, 6, 4, 4, 4, 3, 2, 7, 5, 5, 8, 6, 6, 7, 6, 9, 6, 4, 7, 5, 4, 8, 6, 9, 6, 6, 2, 2, 9, 3, 1, 3, 4, 3, 2, 2, 1, 8, 4, 5, 9, 9, 3, 5, 8, 6, 0, 4, 7, 7, 6, 2, 6, 8, 9, 7, 4, 5, 1, 1, 7, 7, 6, 8, 3, 6, 1, 6, 2, 5, 7, 4, 1, 8, 1, 4, 7, 3, 4, 7, 2, 0, 0, 1, 3, 8, 7, 9, 9, 3, 2, 6\n"
     ]
    },
    {
     "data": {
      "image/png": "[encoded data removed]",
      "text/plain": [
       "<matplotlib.figure.Figure at 0x7fdd33b281d0>"
      ]
     },
     "metadata": {},
     "output_type": "display_data"
    }
   ],
   "source": [
    "data, label = iter(train_loader).next()\n",
    "imshow(torchvision.utils.make_grid(data))\n",
    "print ', '.join(map(lambda x: str(x), label.numpy()))"
   ]
  },
  {
   "cell_type": "code",
   "execution_count": 7,
   "metadata": {
    "collapsed": false
   },
   "outputs": [
    {
     "name": "stdout",
     "output_type": "stream",
     "text": [
      "\n",
      " 0.0000  0.0798  0.0000  ...   0.0000  0.0006  0.0000\n",
      " 0.0000  0.0666  0.0000  ...   0.0134  0.0000  0.0000\n",
      " 0.0000  0.0625  0.0031  ...   0.0244  0.0000  0.0000\n",
      "          ...             ⋱             ...          \n",
      " 0.0000  0.0510  0.0000  ...   0.0332  0.0000  0.0000\n",
      " 0.0000  0.0570  0.0000  ...   0.0268  0.0000  0.0000\n",
      " 0.0000  0.0687  0.0000  ...   0.0267  0.0000  0.0000\n",
      "[torch.cuda.FloatTensor of size 128x10 (GPU 0)]\n",
      "\n"
     ]
    }
   ],
   "source": [
    "data = data.cuda()\n",
    "pred = model(torch.autograd.Variable(data))\n",
    "print pred.data"
   ]
  },
  {
   "cell_type": "code",
   "execution_count": 8,
   "metadata": {
    "collapsed": true
   },
   "outputs": [],
   "source": [
    "from torch.autograd import Variable\n",
    "\n",
    "def train(epoch, interval):\n",
    "    # 首先，设置model phase为TRAIN（对bn和dropout有用）\n",
    "    model.train()\n",
    "    # 迭代训练数据集\n",
    "    for batch_idx, (data, target) in enumerate(train_loader):\n",
    "        # 第一步，将optimizer的grad buffer清零\n",
    "        optimizer.zero_grad()\n",
    "        # 第二步，将data convey到GPU上\n",
    "        if cuda_enable:\n",
    "            data, target = data.cuda(), target.cuda()\n",
    "        data, target = Variable(data), Variable(target) \n",
    "        output = model(data)\n",
    "        loss = F.cross_entropy(output, target)\n",
    "        loss.backward()\n",
    "        optimizer.step()\n",
    "        if (batch_idx+1) % interval == 0:\n",
    "            print 'epoch {}, batch index: {}, loss = {:.6f}'.format(epoch, batch_idx, loss.data[0])\n",
    "            "
   ]
  },
  {
   "cell_type": "code",
   "execution_count": 9,
   "metadata": {
    "collapsed": false
   },
   "outputs": [
    {
     "name": "stdout",
     "output_type": "stream",
     "text": [
      "epoch 0, batch index: 99, loss = 2.298567\n",
      "epoch 0, batch index: 199, loss = 2.278311\n",
      "epoch 0, batch index: 299, loss = 2.246728\n",
      "epoch 0, batch index: 399, loss = 2.213580\n"
     ]
    }
   ],
   "source": [
    "for epoch in xrange(1):\n",
    "    train(epoch, 100)"
   ]
  },
  {
   "cell_type": "code",
   "execution_count": 9,
   "metadata": {
    "collapsed": false
   },
   "outputs": [
    {
     "name": "stdout",
     "output_type": "stream",
     "text": [
      "epoch 0, loss 2.300526, accuracy: 0.10\n"
     ]
    }
   ],
   "source": [
    "def test(epoch):\n",
    "    model.eval()\n",
    "    cnt = 0\n",
    "    test_loss = 0.\n",
    "    for data, target in test_loader:\n",
    "        if cuda_enable:\n",
    "            data, target = data.cuda(), target.cuda()\n",
    "        data, target = Variable(data, volatile = True), Variable(target)\n",
    "        output = model(data)\n",
    "        test_loss += F.cross_entropy(output, target).data[0]\n",
    "        pred = torch.max(output.data, 1)[1]\n",
    "        cnt += (pred == target.data).sum()\n",
    "    accuracy = cnt * 1.0 / (len(test_loader) * batch_size)\n",
    "    test_loss /= len(test_loader)\n",
    "    print 'epoch {}, loss {:.6f}, accuracy: {:.2f}'.format(epoch, test_loss, accuracy)\n",
    "    \n",
    "test(0)"
   ]
  },
  {
   "cell_type": "code",
   "execution_count": 10,
   "metadata": {
    "collapsed": false
   },
   "outputs": [
    {
     "name": "stdout",
     "output_type": "stream",
     "text": [
      "epoch 0, batch index: 99, loss = 2.291751\n",
      "epoch 0, batch index: 199, loss = 2.283409\n",
      "epoch 0, batch index: 299, loss = 2.232776\n",
      "epoch 0, batch index: 399, loss = 2.156245\n",
      "epoch 0, loss 2.098473, accuracy: 0.44\n",
      "epoch 1, batch index: 99, loss = 1.909375\n",
      "epoch 1, batch index: 199, loss = 1.696232\n",
      "epoch 1, batch index: 299, loss = 1.285969\n",
      "epoch 1, batch index: 399, loss = 1.090368\n",
      "epoch 1, loss 1.165558, accuracy: 0.63\n",
      "epoch 2, batch index: 99, loss = 1.004164\n",
      "epoch 2, batch index: 199, loss = 0.904048\n",
      "epoch 2, batch index: 299, loss = 0.841188\n",
      "epoch 2, batch index: 399, loss = 1.024666\n",
      "epoch 2, loss 0.746359, accuracy: 0.78\n",
      "epoch 3, batch index: 99, loss = 0.774889\n",
      "epoch 3, batch index: 199, loss = 0.715350\n",
      "epoch 3, batch index: 299, loss = 0.683326\n",
      "epoch 3, batch index: 399, loss = 0.645122\n",
      "epoch 3, loss 0.655300, accuracy: 0.82\n",
      "epoch 4, batch index: 99, loss = 0.737426\n",
      "epoch 4, batch index: 199, loss = 0.581504\n",
      "epoch 4, batch index: 299, loss = 0.518285\n",
      "epoch 4, batch index: 399, loss = 0.761328\n",
      "epoch 4, loss 0.615612, accuracy: 0.84\n",
      "epoch 5, batch index: 99, loss = 0.511030\n",
      "epoch 5, batch index: 199, loss = 0.665635\n",
      "epoch 5, batch index: 299, loss = 0.595338\n",
      "epoch 5, batch index: 399, loss = 0.717926\n",
      "epoch 5, loss 0.597912, accuracy: 0.85\n",
      "epoch 6, batch index: 99, loss = 0.528854\n",
      "epoch 6, batch index: 199, loss = 0.804974\n",
      "epoch 6, batch index: 299, loss = 0.575533\n",
      "epoch 6, batch index: 399, loss = 0.526656\n",
      "epoch 6, loss 0.575098, accuracy: 0.85\n",
      "epoch 7, batch index: 99, loss = 0.476012\n",
      "epoch 7, batch index: 199, loss = 0.582952\n",
      "epoch 7, batch index: 299, loss = 0.664069\n",
      "epoch 7, batch index: 399, loss = 0.553626\n",
      "epoch 7, loss 0.562129, accuracy: 0.86\n",
      "epoch 8, batch index: 99, loss = 0.660696\n",
      "epoch 8, batch index: 199, loss = 0.706185\n",
      "epoch 8, batch index: 299, loss = 0.686388\n",
      "epoch 8, batch index: 399, loss = 0.661818\n",
      "epoch 8, loss 0.553941, accuracy: 0.86\n",
      "epoch 9, batch index: 99, loss = 0.659246\n",
      "epoch 9, batch index: 199, loss = 0.543997\n",
      "epoch 9, batch index: 299, loss = 0.529701\n",
      "epoch 9, batch index: 399, loss = 0.632105\n",
      "epoch 9, loss 0.543618, accuracy: 0.86\n",
      "epoch 10, batch index: 99, loss = 0.532455\n",
      "epoch 10, batch index: 199, loss = 0.597145\n",
      "epoch 10, batch index: 299, loss = 0.394478\n",
      "epoch 10, batch index: 399, loss = 0.603371\n",
      "epoch 10, loss 0.539748, accuracy: 0.86\n",
      "epoch 11, batch index: 99, loss = 0.443182\n",
      "epoch 11, batch index: 199, loss = 0.554385\n",
      "epoch 11, batch index: 299, loss = 0.525625\n",
      "epoch 11, batch index: 399, loss = 0.356241\n",
      "epoch 11, loss 0.534261, accuracy: 0.87\n",
      "epoch 12, batch index: 99, loss = 0.600873\n",
      "epoch 12, batch index: 199, loss = 0.560103\n",
      "epoch 12, batch index: 299, loss = 0.697818\n",
      "epoch 12, batch index: 399, loss = 0.570569\n",
      "epoch 12, loss 0.533497, accuracy: 0.87\n",
      "epoch 13, batch index: 99, loss = 0.506787\n",
      "epoch 13, batch index: 199, loss = 0.620490\n",
      "epoch 13, batch index: 299, loss = 0.499034\n",
      "epoch 13, batch index: 399, loss = 0.476709\n",
      "epoch 13, loss 0.523909, accuracy: 0.87\n",
      "epoch 14, batch index: 99, loss = 0.452839\n",
      "epoch 14, batch index: 199, loss = 0.533404\n",
      "epoch 14, batch index: 299, loss = 0.512802\n",
      "epoch 14, batch index: 399, loss = 0.652412\n",
      "epoch 14, loss 0.520450, accuracy: 0.87\n",
      "epoch 15, batch index: 99, loss = 0.637170\n",
      "epoch 15, batch index: 199, loss = 0.523140\n",
      "epoch 15, batch index: 299, loss = 0.511172\n",
      "epoch 15, batch index: 399, loss = 0.572730\n",
      "epoch 15, loss 0.523993, accuracy: 0.87\n",
      "epoch 16, batch index: 99, loss = 0.460813\n",
      "epoch 16, batch index: 199, loss = 0.577222\n",
      "epoch 16, batch index: 299, loss = 0.643876\n",
      "epoch 16, batch index: 399, loss = 0.506484\n",
      "epoch 16, loss 0.520543, accuracy: 0.87\n",
      "epoch 17, batch index: 99, loss = 0.542586\n",
      "epoch 17, batch index: 199, loss = 0.430805\n",
      "epoch 17, batch index: 299, loss = 0.484837\n",
      "epoch 17, batch index: 399, loss = 0.688840\n",
      "epoch 17, loss 0.517731, accuracy: 0.87\n",
      "epoch 18, batch index: 99, loss = 0.677690\n",
      "epoch 18, batch index: 199, loss = 0.595955\n",
      "epoch 18, batch index: 299, loss = 0.544594\n",
      "epoch 18, batch index: 399, loss = 0.594078\n",
      "epoch 18, loss 0.510582, accuracy: 0.87\n",
      "epoch 19, batch index: 99, loss = 0.474574\n",
      "epoch 19, batch index: 199, loss = 0.623114\n",
      "epoch 19, batch index: 299, loss = 0.634727\n",
      "epoch 19, batch index: 399, loss = 0.428684\n",
      "epoch 19, loss 0.510880, accuracy: 0.87\n",
      "epoch 20, batch index: 99, loss = 0.474669\n",
      "epoch 20, batch index: 199, loss = 0.450343\n",
      "epoch 20, batch index: 299, loss = 0.583425\n",
      "epoch 20, batch index: 399, loss = 0.439129\n",
      "epoch 20, loss 0.510357, accuracy: 0.87\n",
      "epoch 21, batch index: 99, loss = 0.565684\n",
      "epoch 21, batch index: 199, loss = 0.484001\n",
      "epoch 21, batch index: 299, loss = 0.352679\n",
      "epoch 21, batch index: 399, loss = 0.435724\n",
      "epoch 21, loss 0.508214, accuracy: 0.87\n",
      "epoch 22, batch index: 99, loss = 0.547095\n",
      "epoch 22, batch index: 199, loss = 0.455040\n",
      "epoch 22, batch index: 299, loss = 0.459123\n",
      "epoch 22, batch index: 399, loss = 0.525722\n",
      "epoch 22, loss 0.509946, accuracy: 0.87\n",
      "epoch 23, batch index: 99, loss = 0.367905\n",
      "epoch 23, batch index: 199, loss = 0.364496\n",
      "epoch 23, batch index: 299, loss = 0.471350\n",
      "epoch 23, batch index: 399, loss = 0.547611\n",
      "epoch 23, loss 0.509033, accuracy: 0.87\n",
      "epoch 24, batch index: 99, loss = 0.386663\n",
      "epoch 24, batch index: 199, loss = 0.563377\n",
      "epoch 24, batch index: 299, loss = 0.548816\n",
      "epoch 24, batch index: 399, loss = 0.576034\n",
      "epoch 24, loss 0.506951, accuracy: 0.87\n",
      "epoch 25, batch index: 99, loss = 0.606883\n",
      "epoch 25, batch index: 199, loss = 0.510906\n",
      "epoch 25, batch index: 299, loss = 0.582349\n",
      "epoch 25, batch index: 399, loss = 0.468471\n",
      "epoch 25, loss 0.511179, accuracy: 0.87\n",
      "epoch 26, batch index: 99, loss = 0.575256\n",
      "epoch 26, batch index: 199, loss = 0.569900\n",
      "epoch 26, batch index: 299, loss = 0.587622\n",
      "epoch 26, batch index: 399, loss = 0.556185\n",
      "epoch 26, loss 0.504630, accuracy: 0.87\n",
      "epoch 27, batch index: 99, loss = 0.396972\n",
      "epoch 27, batch index: 199, loss = 0.340431\n",
      "epoch 27, batch index: 299, loss = 0.486916\n",
      "epoch 27, batch index: 399, loss = 0.504291\n",
      "epoch 27, loss 0.509910, accuracy: 0.87\n",
      "epoch 28, batch index: 99, loss = 0.451463\n",
      "epoch 28, batch index: 199, loss = 0.562909\n",
      "epoch 28, batch index: 299, loss = 0.359077\n",
      "epoch 28, batch index: 399, loss = 0.485379\n",
      "epoch 28, loss 0.498523, accuracy: 0.87\n",
      "epoch 29, batch index: 99, loss = 0.392243\n",
      "epoch 29, batch index: 199, loss = 0.624793\n",
      "epoch 29, batch index: 299, loss = 0.589935\n",
      "epoch 29, batch index: 399, loss = 0.486661\n",
      "epoch 29, loss 0.504614, accuracy: 0.88\n"
     ]
    }
   ],
   "source": [
    "for epoch in xrange(30):\n",
    "    train(epoch, 100)\n",
    "    test(epoch)"
   ]
  },
  {
   "cell_type": "markdown",
   "metadata": {},
   "source": []
  },
  {
   "cell_type": "code",
   "execution_count": null,
   "metadata": {
    "collapsed": true
   },
   "outputs": [],
   "source": []
  }
 ],
 "metadata": {
  "kernelspec": {
   "display_name": "Python 2",
   "language": "python",
   "name": "python2"
  },
  "language_info": {
   "codemirror_mode": {
    "name": "ipython",
    "version": 2
   },
   "file_extension": ".py",
   "mimetype": "text/x-python",
   "name": "python",
   "nbconvert_exporter": "python",
   "pygments_lexer": "ipython2",
   "version": "2.7.13"
  }
 },
 "nbformat": 4,
 "nbformat_minor": 2
}
