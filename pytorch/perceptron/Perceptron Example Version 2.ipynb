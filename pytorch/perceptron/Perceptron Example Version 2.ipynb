{
 "cells": [
  {
   "cell_type": "markdown",
   "metadata": {
    "deletable": true,
    "editable": true
   },
   "source": [
    "这次使用PyTorch的自动求导功能得到优化后的模型。"
   ]
  },
  {
   "cell_type": "code",
   "execution_count": 3,
   "metadata": {
    "collapsed": true,
    "deletable": true,
    "editable": true
   },
   "outputs": [],
   "source": [
    "import torch\n",
    "import matplotlib.pyplot as plt\n",
    "import numpy as np"
   ]
  },
  {
   "cell_type": "markdown",
   "metadata": {
    "deletable": true,
    "editable": true
   },
   "source": [
    "## generate Data"
   ]
  },
  {
   "cell_type": "code",
   "execution_count": 4,
   "metadata": {
    "collapsed": false,
    "deletable": true,
    "editable": true
   },
   "outputs": [
    {
     "data": {
      "image/png": "[encoded data removed]",
      "text/plain": [
       "<matplotlib.figure.Figure at 0x10f9e8750>"
      ]
     },
     "metadata": {},
     "output_type": "display_data"
    }
   ],
   "source": [
    "N = 50\n",
    "features = (torch.rand(N, 2) - 0.5) * 10\n",
    "labels = (features[:,0] - features[:,1] + 0.5 > 0).float()\n",
    "labels[labels == 0] = -1\n",
    "plt.figure\n",
    "\n",
    "# positive samples\n",
    "pos_samples = features[(labels>0).nonzero().squeeze()].numpy()\n",
    "neg_samples = features[(labels<0).nonzero().squeeze()].numpy()\n",
    "plt.scatter(pos_samples[:,0], pos_samples[:,1], 20, 'r')\n",
    "plt.scatter(neg_samples[:,0], neg_samples[:,1], 20, 'g')\n",
    "x1 = np.linspace(-5, 5, 100)\n",
    "x2 = x1 + 0.5\n",
    "plt.plot(x1, x2, 'b-')\n",
    "plt.show()"
   ]
  },
  {
   "cell_type": "markdown",
   "metadata": {},
   "source": [
    "第一种方法，不使用Torch中提供的optimizer，而只是利用了Torch提供的自动求导功能。设计类`Perceptron`继承自`nn.Module`，实现前向计算即可。Torch的自动求导会自动为我们实现bp。"
   ]
  },
  {
   "cell_type": "code",
   "execution_count": 50,
   "metadata": {
    "collapsed": false
   },
   "outputs": [],
   "source": [
    "from torch.autograd import Variable\n",
    "import torch.nn as nn\n",
    "class Perceptron(nn.Module):\n",
    "    def __init__(self, dim_in):\n",
    "        super(Perceptron, self).__init__()\n",
    "        self.W = nn.Parameter(torch.zeros(dim_in))\n",
    "        self.b = nn.Parameter(torch.zeros(1))\n",
    "    def forward(self, x, target):\n",
    "        \"\"\"override `forward` method\n",
    "        x: input data\n",
    "        target: labels\"\"\"\n",
    "        score = x.mm(self.W.unsqueeze(1))\n",
    "        score += self.b.unsqueeze(1).expand_as(score).squeeze()\n",
    "        pred = (score > 0).float().squeeze()\n",
    "        pred[pred == 0] = -1\n",
    "        err_index = (pred != target).data.nonzero().squeeze()\n",
    "        err_cnt = torch.numel(err_index)\n",
    "        if err_cnt == 0:\n",
    "            return pred, err_cnt, Variable(torch.zeros(1))\n",
    "        err_y = target[err_index]\n",
    "        score = score[err_index]\n",
    "        loss = torch.sum(-err_y * score)\n",
    "        return pred, err_cnt, loss"
   ]
  },
  {
   "cell_type": "markdown",
   "metadata": {},
   "source": [
    "让我们测试一下，是否得到了参数的梯度。"
   ]
  },
  {
   "cell_type": "code",
   "execution_count": 51,
   "metadata": {
    "collapsed": false
   },
   "outputs": [
    {
     "name": "stdout",
     "output_type": "stream",
     "text": [
      "\n",
      "-36.1368\n",
      " 12.3401\n",
      "[torch.FloatTensor of size 2]\n",
      "\n",
      "\n",
      "-20\n",
      "[torch.FloatTensor of size 1]\n",
      "\n"
     ]
    }
   ],
   "source": [
    "model = Perceptron(2)\n",
    "features_var, labels_var = Variable(features), Variable(labels)\n",
    "pred, err_cnt, loss = model.forward(features_var, labels_var)\n",
    "loss.backward()\n",
    "print model.W.grad.data\n",
    "print model.b.grad.data\n",
    "del model"
   ]
  },
  {
   "cell_type": "markdown",
   "metadata": {},
   "source": [
    "让我们使用下面的方法手动更新参数。\n",
    "```\n",
    "for data, target in datasets:\n",
    "    model.zero_grad()\n",
    "    loss = model(data, target)\n",
    "    loss.backward()\n",
    "    for param in model.parameters:\n",
    "        param.data -= lr * param.grad\n",
    "```"
   ]
  },
  {
   "cell_type": "code",
   "execution_count": 57,
   "metadata": {
    "collapsed": false
   },
   "outputs": [
    {
     "name": "stdout",
     "output_type": "stream",
     "text": [
      "iter 0: err count = 20, loss = 0.000000\n",
      "iter 1: err count = 10, loss = 42.099030\n",
      "iter 2: err count = 10, loss = 31.894926\n",
      "iter 3: err count = 10, loss = 51.720947\n",
      "iter 4: err count = 2, loss = 1.523977\n",
      "iter 5: err count = 0, loss = 0.000000\n"
     ]
    }
   ],
   "source": [
    "model = Perceptron(2)\n",
    "lr = 0.1\n",
    "for i in xrange(20):\n",
    "    model.zero_grad()\n",
    "    pred, err_cnt, loss = model(features_var, labels_var)\n",
    "    print 'iter {}: err count = {}, loss = {:.6f}'.format(i, err_cnt, loss.data[0])\n",
    "    if err_cnt == 0:\n",
    "        break\n",
    "    loss.backward()\n",
    "    model.W.data -= lr * model.W.grad.data\n",
    "    model.b.data -= lr * model.b.grad.data"
   ]
  },
  {
   "cell_type": "markdown",
   "metadata": {},
   "source": [
    "使用下面的方法来可视化训练结果。"
   ]
  },
  {
   "cell_type": "code",
   "execution_count": 58,
   "metadata": {
    "collapsed": true
   },
   "outputs": [],
   "source": [
    "def show_result(trainned_model):\n",
    "    W, b = trainned_model.W.data, trainned_model.b.data\n",
    "    plt.scatter(pos_samples[:,0], pos_samples[:,1], 20, 'r')\n",
    "    plt.scatter(neg_samples[:,0], neg_samples[:,1], 20, 'g')\n",
    "    x1 = np.linspace(-5, 5, 100)\n",
    "    x2 = -W[0]/W[1]*x1 - b[0] / W[1]\n",
    "    plt.plot(x1, x2, 'b-')\n",
    "    plt.show()"
   ]
  },
  {
   "cell_type": "code",
   "execution_count": 59,
   "metadata": {
    "collapsed": false
   },
   "outputs": [
    {
     "data": {
      "image/png": "[encoded data removed]",
      "text/plain": [
       "<matplotlib.figure.Figure at 0x11a4846d0>"
      ]
     },
     "metadata": {},
     "output_type": "display_data"
    }
   ],
   "source": [
    "show_result(model)\n",
    "del model"
   ]
  },
  {
   "cell_type": "markdown",
   "metadata": {},
   "source": [
    "接下来，更进一步，我们直接使用Torch提供的SGD优化方法进行参数的更新。我们只需要将要更新的参数传入类`SGD`的构造函数即可。为什么`model.parameters()`方法就能够获得`model`中所有参数的迭代器呢？这是因为`W`和`b`都被我们声明为`Parameter`类型。当`nn.Module`中声明`Variable`类型的成员变量时，会将其自动加入到参数列表中。这些是Torch在背后默默为我们做的。"
   ]
  },
  {
   "cell_type": "code",
   "execution_count": 60,
   "metadata": {
    "collapsed": false
   },
   "outputs": [
    {
     "name": "stdout",
     "output_type": "stream",
     "text": [
      "iter 0: err count = 20, loss = 0.000000\n",
      "iter 1: err count = 10, loss = 42.099030\n",
      "iter 2: err count = 0, loss = 0.000000\n"
     ]
    }
   ],
   "source": [
    "import torch.optim as optim\n",
    "model = Perceptron(2)\n",
    "optimizer = optim.SGD(model.parameters(), lr = 0.1, momentum=0.9)\n",
    "for i in xrange(20):\n",
    "    optimizer.zero_grad()\n",
    "    pred, err_cnt, loss = model(features_var, labels_var)\n",
    "    print 'iter {}: err count = {}, loss = {:.6f}'.format(i, err_cnt, loss.data[0])\n",
    "    if err_cnt == 0:\n",
    "        break\n",
    "    loss.backward()\n",
    "    optimizer.step()"
   ]
  },
  {
   "cell_type": "code",
   "execution_count": 61,
   "metadata": {
    "collapsed": false
   },
   "outputs": [
    {
     "data": {
      "image/png": "[encoded data removed]",
      "text/plain": [
       "<matplotlib.figure.Figure at 0x11a63a3d0>"
      ]
     },
     "metadata": {},
     "output_type": "display_data"
    }
   ],
   "source": [
    "show_result(model)"
   ]
  },
  {
   "cell_type": "code",
   "execution_count": null,
   "metadata": {
    "collapsed": true
   },
   "outputs": [],
   "source": []
  }
 ],
 "metadata": {
  "kernelspec": {
   "display_name": "Python 2",
   "language": "python",
   "name": "python2"
  },
  "language_info": {
   "codemirror_mode": {
    "name": "ipython",
    "version": 2
   },
   "file_extension": ".py",
   "mimetype": "text/x-python",
   "name": "python",
   "nbconvert_exporter": "python",
   "pygments_lexer": "ipython2",
   "version": "2.7.13"
  }
 },
 "nbformat": 4,
 "nbformat_minor": 2
}
