{
 "cells": [
  {
   "cell_type": "markdown",
   "metadata": {},
   "source": [
    "# Perceptron Example with PyTorch"
   ]
  },
  {
   "cell_type": "code",
   "execution_count": 19,
   "metadata": {
    "collapsed": true
   },
   "outputs": [],
   "source": [
    "import torch\n",
    "import matplotlib.pyplot as plt\n",
    "import numpy as np"
   ]
  },
  {
   "cell_type": "markdown",
   "metadata": {},
   "source": [
    "## generate data"
   ]
  },
  {
   "cell_type": "markdown",
   "metadata": {},
   "source": [
    "为了方便可视化，特征向量为2维。假设分类超平面为$2x_1-x_2+3 = 0$. 使用红色标记正样本，使用绿色标记负样本。"
   ]
  },
  {
   "cell_type": "code",
   "execution_count": 111,
   "metadata": {
    "collapsed": false
   },
   "outputs": [
    {
     "data": {
      "image/png": "[encoded data removed]",
      "text/plain": [
       "<matplotlib.figure.Figure at 0x11c433bd0>"
      ]
     },
     "metadata": {},
     "output_type": "display_data"
    }
   ],
   "source": [
    "N = 50   # dataset size\n",
    "features = (torch.rand((N, 2)) - 0.5) * 10\n",
    "labels = (features[:,0] * 2 - features[:,1] + 3 > 0).float()\n",
    "labels[labels == 0] = -1\n",
    "\n",
    "# 筛选正样本\n",
    "positive_fea = features[(labels>0).nonzero().squeeze()].numpy()\n",
    "plt.scatter(positive_fea[:,0], positive_fea[:,1], 20, 'r')\n",
    "\n",
    "# 负样本\n",
    "negtive_fea = features[(labels<0).nonzero().squeeze()].numpy()\n",
    "plt.scatter(negtive_fea[:,0], negtive_fea[:,1], 20, 'g')\n",
    "# 分类超平面，蓝色\n",
    "x1 = np.linspace(-5, 5, 100)\n",
    "x2 = 2*x1+3\n",
    "plt.plot(x1, x2, 'b-')\n",
    "plt.show()"
   ]
  },
  {
   "cell_type": "markdown",
   "metadata": {},
   "source": [
    "## 训练"
   ]
  },
  {
   "cell_type": "markdown",
   "metadata": {},
   "source": [
    "感知机模型的判别函数如下所示：\n",
    "$$y = \\text{sign}(Wx+b)$$\n",
    "其中，\n",
    "$$\\text{sign}(x) = \\begin{cases} 1, & x > 0\\\\ -1, &\\text{otherwise}\\end{cases}$$\n",
    "\n",
    "loss被定义为被错误分类的点到分类超平面的函数间隔距离，即：\n",
    "$$L = -\\sum_{i=1}^{N}I(y_i!=\\hat{y_i})y_i(Wx+b)$$\n",
    "\n",
    "其中，$I(x)$是指示函数。而$Wx+b$则是计算点到超平面的距离。我们知道，点到平面的距离计算公式为\n",
    "$$d = \\frac{|Wx+b|}{\\Vert W\\Vert}$$\n",
    "\n",
    "这里把分母去掉，因为我们不考虑$\\Vert W\\Vert$的放缩作用的影响。（在这里，很多网上的文章都说这一项是个常数，所以可以去掉，我觉得这种方法不对。这里之所以引入了这种损失函数，是将一个不连续的判别函数搞成了连续的loss，方便求导SGD。其实我们的最终目的是将所有的点正确分类，至于这些点与超平面的距离，我们不是很关系，所以，这里可以省去这项分母）\n",
    "\n",
    "同时，我们乘上了一个$-y_i$，这一项是为了去掉上述距离计算公式中的绝对值符号的。"
   ]
  },
  {
   "cell_type": "markdown",
   "metadata": {},
   "source": [
    "有了上面的约定，我们接下来求导即可。\n",
    "下面的公式，我们默认使用SGD，只考虑单个训练样本，不再考虑整个训练集，将loss函数中外层的累加符号就去掉了。\n",
    "对参数$W$求导，有\n",
    "$$\\frac{\\partial L}{\\partial W} = -y_k x_k$$\n",
    "对参数$b$求导，有\n",
    "$$\\frac{\\partial L}{\\partial b} = -y_k$$\n",
    "其中，$(x_k,y_k)$即为当前被错分的样本。"
   ]
  },
  {
   "cell_type": "code",
   "execution_count": 117,
   "metadata": {
    "collapsed": false
   },
   "outputs": [
    {
     "name": "stdout",
     "output_type": "stream",
     "text": [
      "iter 0: err count = 18\n",
      "iter 1: err count = 19\n",
      "iter 2: err count = 9\n",
      "iter 3: err count = 7\n",
      "iter 4: err count = 5\n",
      "iter 5: err count = 2\n",
      "iter 6: err count = 1\n",
      "iter 7: err count = 0\n",
      "W: \n",
      " 2.6034\n",
      "-1.3352\n",
      "[torch.FloatTensor of size 2]\n",
      "\n",
      "b: \n",
      " 4.0262\n",
      "[torch.FloatTensor of size 1]\n",
      "\n"
     ]
    },
    {
     "data": {
      "image/png": "[encoded data removed]",
      "text/plain": [
       "<matplotlib.figure.Figure at 0x11ca08d10>"
      ]
     },
     "metadata": {},
     "output_type": "display_data"
    }
   ],
   "source": [
    "lr = 0.1\n",
    "W = torch.rand(2)\n",
    "b = torch.rand(1)\n",
    "# 最多迭代20次\n",
    "for i in xrange(20):\n",
    "    score = features.mm(W.unsqueeze(1)).squeeze()\n",
    "    score += b.expand_as(score)   # torch没有broadcasting机制\n",
    "    pred = (score > 0).float()\n",
    "    pred[pred == 0] = -1\n",
    "    err_index = (pred != labels).nonzero().squeeze()\n",
    "    err_cnt = err_index.numel()\n",
    "    print 'iter {}: err count = {}'.format(i, err_cnt)\n",
    "    if err_cnt == 0:\n",
    "        break\n",
    "    x = features[err_index]\n",
    "    y = labels[err_index]\n",
    "    delta_W = torch.sum(x * (y.unsqueeze(1).expand_as(x)), 0)\n",
    "    delta_b = torch.sum(y)\n",
    "    # 参数更新\n",
    "    W += lr * delta_W\n",
    "    b += lr * delta_b\n",
    "print 'W: {}'.format(W)\n",
    "print 'b: {}'.format(b)\n",
    "\n",
    "plt.figure()\n",
    "plt.scatter(positive_fea[:,0], positive_fea[:,1], 20, 'r')\n",
    "plt.scatter(negtive_fea[:,0], negtive_fea[:,1], 20, 'g')\n",
    "x1 = np.linspace(-5, 5, 100)\n",
    "x2 = -W[0]/W[1]*x1-b[0]/W[1]\n",
    "plt.plot(x1, x2, 'b-')\n",
    "plt.show()"
   ]
  },
  {
   "cell_type": "code",
   "execution_count": null,
   "metadata": {
    "collapsed": true
   },
   "outputs": [],
   "source": []
  }
 ],
 "metadata": {
  "kernelspec": {
   "display_name": "Python 2",
   "language": "python",
   "name": "python2"
  },
  "language_info": {
   "codemirror_mode": {
    "name": "ipython",
    "version": 2
   },
   "file_extension": ".py",
   "mimetype": "text/x-python",
   "name": "python",
   "nbconvert_exporter": "python",
   "pygments_lexer": "ipython2",
   "version": "2.7.13"
  }
 },
 "nbformat": 4,
 "nbformat_minor": 2
}
